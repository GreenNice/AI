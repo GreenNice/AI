{
  "cells": [
    {
      "cell_type": "code",
      "execution_count": null,
      "metadata": {
        "id": "TIMtwqDs10f4"
      },
      "outputs": [],
      "source": [
        "import numpy as np\n",
        "from queue import PriorityQueue\n",
        "import random\n",
        "import itertools\n",
        "import matplotlib.pyplot as plt\n",
        "\n",
        "class PuzzleState:\n",
        "    goal_state = np.array([[1, 2, 3], [4, 5, 6], [7, 8, 0]])\n",
        "\n",
        "    def __init__(self, state, parent=None, action=None, depth=0):\n",
        "        self.state = np.array(state)\n",
        "        self.parent = parent\n",
        "        self.action = action\n",
        "        self.depth = depth\n",
        "        self.heuristic_cost = self.calculate_manhattan_distance()\n",
        "        self.total_cost = self.depth + self.heuristic_cost\n",
        "\n",
        "    def calculate_manhattan_distance(self):\n",
        "        total_distance = 0\n",
        "        for num in range(1, 9):\n",
        "            position = np.argwhere(self.state == num)[0]\n",
        "            goal_position = np.argwhere(self.goal_state == num)[0]\n",
        "            total_distance += abs(position[0] - goal_position[0]) + abs(position[1]  - goal_position[1])\n",
        "        return total_distance\n",
        "\n",
        "    def is_goal(self):\n",
        "        return np.array_equal(self.state, self.goal_state)\n",
        "\n",
        "    def possible_moves(self):\n",
        "        zero_pos = tuple(np.argwhere(self.state == 0)[0])\n",
        "        moves = []\n",
        "        if zero_pos[0] > 0: moves.append(\"Up\")\n",
        "        if zero_pos[0] < 2: moves.append(\"Down\")\n",
        "        if zero_pos[1] > 0: moves.append(\"Left\")\n",
        "        if zero_pos[1] < 2: moves.append(\"Right\")\n",
        "        return moves\n",
        "\n",
        "    def generate_successor(self, move):\n",
        "        zero_pos = tuple(np.argwhere(self.state == 0)[0])\n",
        "        new_state = np.copy(self.state)\n",
        "        if move == \"Up\":\n",
        "            swap_pos = (zero_pos[0] - 1, zero_pos[1])\n",
        "        elif move == \"Down\":\n",
        "            swap_pos = (zero_pos[0] + 1, zero_pos[1])\n",
        "        elif move == \"Left\":\n",
        "            swap_pos = (zero_pos[0], zero_pos[1] - 1)\n",
        "        else:  # Right\n",
        "            swap_pos = (zero_pos[0], zero_pos[1] + 1)\n",
        "        new_state[zero_pos] \\\n",
        "        , new_state[swap_pos] = new_state[swap_pos], new_state[zero_pos]\n",
        "        return PuzzleState(new_state.tolist(), self, move, self.depth + 1)\n",
        "\n",
        "\n",
        "\n",
        "def a_star_search(initial_state):\n",
        "    open_set = PriorityQueue()\n",
        "    counter = itertools.count()\n",
        "    start_state = PuzzleState(initial_state)\n",
        "    open_set.put((start_state.total_cost, next(counter), start_state))\n",
        "    visited = set()\n",
        "\n",
        "    while not open_set.empty():\n",
        "        current_cost, _, current_state = open_set.get()\n",
        "\n",
        "        if current_state.is_goal():\n",
        "            return current_state\n",
        "\n",
        "        visited.add(tuple(map(tuple, current_state.state)))\n",
        "\n",
        "        for move in current_state.possible_moves():\n",
        "            successor = current_state.generate_successor(move)\n",
        "            if tuple(map(tuple, successor.state)) not in visited:\n",
        "                open_set.put((successor.total_cost, next(counter), successor))\n",
        "\n",
        "    return None\n",
        "\n",
        "def print_solution(solution):\n",
        "    path = []\n",
        "    total_cost = solution.total_cost\n",
        "    while solution.parent:\n",
        "        path.append(solution.action)\n",
        "        solution = solution.parent\n",
        "    path.reverse()\n",
        "    return path, total_cost\n",
        "\n"
      ]
    },
    {
      "cell_type": "code",
      "execution_count": null,
      "metadata": {
        "id": "JM-MsVZ542ZN"
      },
      "outputs": [],
      "source": [
        "def plot_solution(solution):\n",
        "    states = [solution.state]\n",
        "    while solution.parent:\n",
        "        solution = solution.parent\n",
        "        states.append(solution.state)\n",
        "    states.reverse()\n",
        "\n",
        "    fig, axs = plt.subplots(1, len(states), figsize=(len(states)*2, 2))\n",
        "    for i, state in enumerate(states):\n",
        "        axs[i].matshow(state, cmap='tab20c')\n",
        "        axs[i].set_xticks([])\n",
        "        axs[i].set_yticks([])\n",
        "        for (j, k), val in np.ndenumerate(state):\n",
        "            axs[i].text(k, j, f'{val}', ha='center', va='center', color='black')\n",
        "    plt.show()\n"
      ]
    },
    {
      "cell_type": "code",
      "execution_count": null,
      "metadata": {
        "colab": {
          "base_uri": "https://localhost:8080/",
          "height": 203
        },
        "id": "fGr2-PRp7MNz",
        "outputId": "eaf501f7-05f5-4275-9f88-0b0af4215a18"
      },
      "outputs": [
        {
          "name": "stdout",
          "output_type": "stream",
          "text": [
            "Solution found with the following moves: ['Right', 'Up', 'Right', 'Down', 'Down', 'Left', 'Up', 'Right', 'Down']\n",
            "Total cost (depth + heuristic): 9\n"
          ]
        },
        {
          "data": {
            "image/png": "[encoded data removed]",
            "text/plain": [
              "<Figure size 2000x200 with 10 Axes>"
            ]
          },
          "metadata": {},
          "output_type": "display_data"
        }
      ],
      "source": [
        "if __name__ == \"__main__\":\n",
        "    initial_state = [[1, 8, 2], [0, 4, 3], [7, 6, 5]]\n",
        "\n",
        "    solution = a_star_search(initial_state)\n",
        "\n",
        "    if solution:\n",
        "        actions, total_cost = print_solution(solution)\n",
        "        print(\"Solution found with the following moves:\", actions)\n",
        "        print(\"Total cost (depth + heuristic):\", total_cost)\n",
        "        plot_solution(solution)\n",
        "    else:\n",
        "        print(\"No solution found.\")\n"
      ]
    },
    {
      "cell_type": "code",
      "execution_count": null,
      "metadata": {
        "id": "6lJ6I-qb10l5"
      },
      "outputs": [],
      "source": [
        "def shuffle_state(state, moves=100):\n",
        "    current_state = PuzzleState(state)\n",
        "    for _ in range(moves):\n",
        "        move = random.choice(current_state.possible_moves())\n",
        "        current_state = current_state.generate_successor(move)\n",
        "    return current_state.state\n",
        "\n",
        "def generate_random_states(n=1000):\n",
        "    random_states = [shuffle_state(PuzzleState.goal_state, 100) \\\n",
        "                     for _ in range(n)]\n",
        "    return random_states\n"
      ]
    },
    {
      "cell_type": "code",
      "execution_count": null,
      "metadata": {
        "colab": {
          "base_uri": "https://localhost:8080/",
          "height": 487
        },
        "id": "UcOsVAi3bY8P",
        "outputId": "dfafd6c5-4e2e-42bb-e84e-6d6f12ebcea3"
      },
      "outputs": [
        {
          "data": {
            "image/png": "[encoded data removed]",
            "text/plain": [
              "<Figure size 1000x500 with 1 Axes>"
            ]
          },
          "metadata": {},
          "output_type": "display_data"
        }
      ],
      "source": [
        "def solve_and_analyze_states(states):\n",
        "    path_costs = []\n",
        "    for state in states:\n",
        "        solution = a_star_search(state)\n",
        "        if solution:\n",
        "            _, total_cost = print_solution(solution)\n",
        "            path_costs.append(total_cost)\n",
        "    average_cost = sum(path_costs) / len(path_costs)\n",
        "    return average_cost, path_costs\n",
        "\n",
        "random_states = generate_random_states(1000)\n",
        "average_cost, path_costs = solve_and_analyze_states(random_states)\n",
        "\n",
        "def visualize_results(average_cost, path_costs):\n",
        "    plt.figure(figsize=(10, 5))\n",
        "    plt.hist(path_costs, bins=30, alpha=0.75)\n",
        "    plt.axvline(average_cost, color='red', linestyle='dashed', linewidth=1)\n",
        "    plt.title('Path Costs Distribution of 1000 8-Puzzle Solutions')\n",
        "    plt.xlabel('Path Cost')\n",
        "    plt.ylabel('Frequency')\n",
        "    plt.show()\n",
        "\n",
        "visualize_results(average_cost, path_costs)\n"
      ]
    },
    {
      "cell_type": "code",
      "execution_count": null,
      "metadata": {
        "id": "_FHfZNJvbi2z"
      },
      "outputs": [],
      "source": []
    },
    {
      "cell_type": "code",
      "execution_count": null,
      "metadata": {
        "id": "4BPGUM3LbkVf"
      },
      "outputs": [],
      "source": []
    }
  ],
  "metadata": {
    "colab": {
      "provenance": []
    },
    "kernelspec": {
      "display_name": "Python 3",
      "name": "python3"
    },
    "language_info": {
      "name": "python"
    }
  },
  "nbformat": 4,
  "nbformat_minor": 0
}
